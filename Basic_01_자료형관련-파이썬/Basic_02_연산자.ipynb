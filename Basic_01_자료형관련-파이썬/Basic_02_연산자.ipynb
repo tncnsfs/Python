{
 "cells": [
  {
   "cell_type": "markdown",
   "metadata": {},
   "source": [
    "## 연산자\n",
    "\n",
    "#### 1. # 사칙연산자\n",
    "#### 2. # 조건분기"
   ]
  },
  {
   "cell_type": "code",
   "execution_count": 1,
   "metadata": {},
   "outputs": [
    {
     "name": "stdout",
     "output_type": "stream",
     "text": [
      "6\n",
      "var1 은 True 이므로 출력 됩니다.\n",
      "\n",
      "\n",
      "h 가 hello world 에 포함되어 있으므로 True를 반환하는 것으로 값이 출력 됩니다. \n",
      "\n",
      "\n",
      "아무값도 포함 되어 있지 않을때 출력\n"
     ]
    }
   ],
   "source": [
    "## 연산자\n",
    "\n",
    "#### 1. # 사칙연산자\n",
    "\n",
    "# 사칙연산자\n",
    "var1 = 1\n",
    "var2 = 5 \n",
    "var1 += var2\n",
    "print(var1)\n",
    "\n",
    "# 비교연산자 \n",
    "var1 == var2\n",
    "\n",
    "\n",
    "#### 2. # 조건분기\n",
    "\n",
    "# 조건문 \n",
    "\n",
    "var1 = True\n",
    "var2 = False\n",
    "\n",
    "if var1:\n",
    "    print(\"var1 은 True 이므로 출력 됩니다.\")\n",
    "elif var2:\n",
    "    print(\"var2 는 False 이므로 출력이 안됩니다. \")\n",
    "    \n",
    "print(\"\\n\")\n",
    "# 포함(in) 여부에 따른 조건문\n",
    "if 'h' in 'hello world':\n",
    "    print(\"h 가 hello world 에 포함되어 있으므로 True를 반환하는 것으로 값이 출력 됩니다. \")\n",
    "\n",
    "print(\"\\n\")\n",
    "if 6 in [1,2,3,4,5]:\n",
    "    print(\"1 이 포함되어 있으므로 출력\")\n",
    "elif 6 in [1,2,3,4,5]:\n",
    "    print(\"2 가 포함되어 있으므로 출력\")\n",
    "else : \n",
    "    print(\"아무값도 포함 되어 있지 않을때 출력\")\n",
    "\n"
   ]
  },
  {
   "cell_type": "markdown",
   "metadata": {},
   "source": [
    "#### 3. # while 조건 반복문"
   ]
  },
  {
   "cell_type": "code",
   "execution_count": 5,
   "metadata": {},
   "outputs": [
    {
     "name": "stdout",
     "output_type": "stream",
     "text": [
      "0 번째\n",
      "1 번째\n",
      "2 번째\n",
      "3 번째\n",
      "4 번째\n"
     ]
    }
   ],
   "source": [
    "cnt = 0\n",
    "while cnt< 5 :\n",
    "    print('%d 번째'%(cnt))\n",
    "    cnt +=1"
   ]
  },
  {
   "cell_type": "markdown",
   "metadata": {},
   "source": [
    "#### 4. # for 반복문\n",
    "\n",
    "##### for 변수 in range(0,10): \n",
    "     #####    실행코드 1 \n",
    "\n",
    "##### for 변수 in (리스트 or 문자열 or 딕셔너리 or 튜플): \n",
    "    ##### 실행코드 2\n",
    "    "
   ]
  },
  {
   "cell_type": "code",
   "execution_count": 30,
   "metadata": {},
   "outputs": [
    {
     "name": "stdout",
     "output_type": "stream",
     "text": [
      "0 번째\n",
      "1 번째\n",
      "2 번째\n",
      "3 번째\n",
      "4 번째\n",
      "\n",
      "\n",
      "h\n",
      "e\n",
      "l\n",
      "l\n",
      "o\n",
      " \n",
      "w\n",
      "o\n",
      "r\n",
      "l\n",
      "d\n",
      "\n",
      "\n",
      "11\n",
      "22\n",
      "33\n",
      "44\n",
      "55\n",
      "\n",
      "\n",
      "key1\n",
      "value\n",
      "dict_items([('key1', 'value'), ('key2', 'value2'), ('key3', 'value3')])\n",
      "key2\n",
      "value2\n",
      "dict_items([('key1', 'value'), ('key2', 'value2'), ('key3', 'value3')])\n",
      "key3\n",
      "value3\n",
      "dict_items([('key1', 'value'), ('key2', 'value2'), ('key3', 'value3')])\n",
      "\n",
      "\n",
      "2 * 2 = 4\n",
      "2 * 3 = 6\n",
      "2 * 4 = 8\n",
      "3 * 2 = 6\n",
      "3 * 3 = 9\n",
      "3 * 4 = 12\n",
      "4 * 2 = 8\n",
      "4 * 3 = 12\n",
      "4 * 4 = 16\n"
     ]
    }
   ],
   "source": [
    "for i in range(0,5):\n",
    "    print('%d 번째' %i)\n",
    "   \n",
    "print(\"\\n\") \n",
    "# 문자 빼기\n",
    "for i in \"hello world\":\n",
    "    print(i)\n",
    "   \n",
    "print(\"\\n\") \n",
    "for i in [11,22,33,44,55]:\n",
    "    print(i)\n",
    "       \n",
    "print(\"\\n\") \n",
    "# 딕셔너리 \n",
    "var = {'key1':'value', 'key2':'value2','key3':'value3'}\n",
    "for key in var:\n",
    "    print(key)\n",
    "    print(var[key])\n",
    "    print(var.items())\n",
    "\n",
    "print(\"\\n\") \n",
    "# 구구단 만들기 \n",
    "for i in range(2,5):\n",
    "    for j in range(2,5):\n",
    "        print('%d * %d = %d'%(i,j,i*j))"
   ]
  },
  {
   "cell_type": "code",
   "execution_count": null,
   "metadata": {},
   "outputs": [],
   "source": []
  }
 ],
 "metadata": {
  "kernelspec": {
   "display_name": "Python 3",
   "language": "python",
   "name": "python3"
  },
  "language_info": {
   "codemirror_mode": {
    "name": "ipython",
    "version": 3
   },
   "file_extension": ".py",
   "mimetype": "text/x-python",
   "name": "python",
   "nbconvert_exporter": "python",
   "pygments_lexer": "ipython3",
   "version": "3.7.1"
  }
 },
 "nbformat": 4,
 "nbformat_minor": 2
}
