{
 "cells": [
  {
   "cell_type": "code",
   "execution_count": 6,
   "metadata": {},
   "outputs": [
    {
     "name": "stdout",
     "output_type": "stream",
     "text": [
      "           시설명                         소재지도로명주소  \\\n",
      "0    용암종합사회복지관         충청북도 청주시 상당구 원봉로 52(용암동)   \n",
      "1   청주시노인종합복지관     충청북도 청주시 상당구 대성로172번길 21(수동)   \n",
      "2       청주YMCA   충청북도 청주시 상당구 사직대로 350번길99(서문동)   \n",
      "3    산남종합사회복지관       충청북도 청주시 서원구 구룡산로 292(수곡동)   \n",
      "4  충청북도노인종합복지관        충청북도 청주시 서원구 흥덕로 42 (사직동)   \n",
      "5    서부종합사회복지관  충청북도 청주시 흥덕구 가로수로 1370번길16(복대동)   \n",
      "6     현양노인복지센터       충청북도 청주시 흥덕구 1순환로 392(신봉동)   \n",
      "7    오송종합사회복지관     충청북도 청주시 흥덕구 오송생명1로 180(오송읍)   \n",
      "8    청주가경노인복지관        충청북도 청주시 흥덕구 서부로1225(가경동)   \n",
      "\n",
      "                              소재지지번주소  \n",
      "0  충청북도 청주시 상당구 용암동 2108, 용암주공@ 1,2단지  \n",
      "1               충청북도 청주시 상당구 수동 138-8  \n",
      "2              충청북도 청주시 상당구 서문동 119-5  \n",
      "3          충청북도 청주시 서원구 구룡산로 292(수곡동)  \n",
      "4             충청북도 청주시 서원구 사직동 554-58  \n",
      "5              충청북도 청주시 흥덕구 복대동 131-3  \n",
      "6               충청북도 청주시 흥덕구 신봉동 26-6  \n",
      "7            충청북도 청주시 흥덕구 오송읍 연제리 677  \n",
      "8                충청북도 청주시 흥덕구 가경동 산90  \n"
     ]
    }
   ],
   "source": [
    "import csv\n",
    "import pandas as pd \n",
    "\n",
    "data = pd.read_excel(\"전국무료급식소표준데이터.xlsx\", sheet_name = 'Sheet1')\n",
    "# data1 = pd.read_csv(\"전국무료급식소표준데이터.csv\")\n",
    "print(data)"
   ]
  },
  {
   "cell_type": "code",
   "execution_count": null,
   "metadata": {},
   "outputs": [],
   "source": [
    "\n"
   ]
  }
 ],
 "metadata": {
  "kernelspec": {
   "display_name": "Python 3",
   "language": "python",
   "name": "python3"
  },
  "language_info": {
   "codemirror_mode": {
    "name": "ipython",
    "version": 3
   },
   "file_extension": ".py",
   "mimetype": "text/x-python",
   "name": "python",
   "nbconvert_exporter": "python",
   "pygments_lexer": "ipython3",
   "version": "3.7.1"
  }
 },
 "nbformat": 4,
 "nbformat_minor": 2
}
