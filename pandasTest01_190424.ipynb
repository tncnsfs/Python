{
 "cells": [
  {
   "cell_type": "code",
   "execution_count": 2,
   "metadata": {},
   "outputs": [],
   "source": [
    "import numpy as np\n",
    "import pandas as pd"
   ]
  },
  {
   "cell_type": "code",
   "execution_count": 5,
   "metadata": {},
   "outputs": [
    {
     "name": "stdout",
     "output_type": "stream",
     "text": [
      "0    1.0\n",
      "1    3.0\n",
      "2    5.0\n",
      "3    NaN\n",
      "4    6.0\n",
      "5    8.0\n",
      "dtype: float64\n"
     ]
    }
   ],
   "source": [
    "s = pd.Series([1,3,5,np.nan, 6,8])\n",
    "print(s)"
   ]
  },
  {
   "cell_type": "code",
   "execution_count": 13,
   "metadata": {},
   "outputs": [
    {
     "name": "stdout",
     "output_type": "stream",
     "text": [
      "DatetimeIndex(['2013-01-01', '2013-01-02', '2013-01-03', '2013-01-04',\n",
      "               '2013-01-05', '2013-01-06'],\n",
      "              dtype='datetime64[ns]', freq='D')\n"
     ]
    },
    {
     "data": {
      "text/html": [
       "<div>\n",
       "<style scoped>\n",
       "    .dataframe tbody tr th:only-of-type {\n",
       "        vertical-align: middle;\n",
       "    }\n",
       "\n",
       "    .dataframe tbody tr th {\n",
       "        vertical-align: top;\n",
       "    }\n",
       "\n",
       "    .dataframe thead th {\n",
       "        text-align: right;\n",
       "    }\n",
       "</style>\n",
       "<table border=\"1\" class=\"dataframe\">\n",
       "  <thead>\n",
       "    <tr style=\"text-align: right;\">\n",
       "      <th></th>\n",
       "      <th>A</th>\n",
       "      <th>B</th>\n",
       "      <th>C</th>\n",
       "      <th>D</th>\n",
       "    </tr>\n",
       "  </thead>\n",
       "  <tbody>\n",
       "    <tr>\n",
       "      <th>2013-01-01</th>\n",
       "      <td>-1.089913</td>\n",
       "      <td>-0.540787</td>\n",
       "      <td>0.396584</td>\n",
       "      <td>0.625265</td>\n",
       "    </tr>\n",
       "    <tr>\n",
       "      <th>2013-01-02</th>\n",
       "      <td>0.411511</td>\n",
       "      <td>1.794431</td>\n",
       "      <td>-1.034599</td>\n",
       "      <td>-2.001397</td>\n",
       "    </tr>\n",
       "    <tr>\n",
       "      <th>2013-01-03</th>\n",
       "      <td>1.584257</td>\n",
       "      <td>1.231666</td>\n",
       "      <td>-2.265901</td>\n",
       "      <td>-1.580157</td>\n",
       "    </tr>\n",
       "    <tr>\n",
       "      <th>2013-01-04</th>\n",
       "      <td>0.326383</td>\n",
       "      <td>0.037278</td>\n",
       "      <td>0.357432</td>\n",
       "      <td>-1.381939</td>\n",
       "    </tr>\n",
       "    <tr>\n",
       "      <th>2013-01-05</th>\n",
       "      <td>-0.913387</td>\n",
       "      <td>-0.977802</td>\n",
       "      <td>-1.643254</td>\n",
       "      <td>0.336862</td>\n",
       "    </tr>\n",
       "    <tr>\n",
       "      <th>2013-01-06</th>\n",
       "      <td>-0.126405</td>\n",
       "      <td>-0.245707</td>\n",
       "      <td>-1.345045</td>\n",
       "      <td>0.072167</td>\n",
       "    </tr>\n",
       "  </tbody>\n",
       "</table>\n",
       "</div>"
      ],
      "text/plain": [
       "                   A         B         C         D\n",
       "2013-01-01 -1.089913 -0.540787  0.396584  0.625265\n",
       "2013-01-02  0.411511  1.794431 -1.034599 -2.001397\n",
       "2013-01-03  1.584257  1.231666 -2.265901 -1.580157\n",
       "2013-01-04  0.326383  0.037278  0.357432 -1.381939\n",
       "2013-01-05 -0.913387 -0.977802 -1.643254  0.336862\n",
       "2013-01-06 -0.126405 -0.245707 -1.345045  0.072167"
      ]
     },
     "execution_count": 13,
     "metadata": {},
     "output_type": "execute_result"
    }
   ],
   "source": [
    "dates = pd.date_range('20130101', periods=6)\n",
    "print(dates)\n",
    "\n",
    "df = pd.DataFrame(np.random.randn(6,4), index=dates,columns=list('ABCD'))\n",
    "\n",
    "df"
   ]
  },
  {
   "cell_type": "code",
   "execution_count": 20,
   "metadata": {},
   "outputs": [
    {
     "data": {
      "text/html": [
       "<div>\n",
       "<style scoped>\n",
       "    .dataframe tbody tr th:only-of-type {\n",
       "        vertical-align: middle;\n",
       "    }\n",
       "\n",
       "    .dataframe tbody tr th {\n",
       "        vertical-align: top;\n",
       "    }\n",
       "\n",
       "    .dataframe thead th {\n",
       "        text-align: right;\n",
       "    }\n",
       "</style>\n",
       "<table border=\"1\" class=\"dataframe\">\n",
       "  <thead>\n",
       "    <tr style=\"text-align: right;\">\n",
       "      <th></th>\n",
       "      <th>A</th>\n",
       "      <th>B</th>\n",
       "      <th>C</th>\n",
       "      <th>D</th>\n",
       "      <th>E</th>\n",
       "      <th>F</th>\n",
       "    </tr>\n",
       "  </thead>\n",
       "  <tbody>\n",
       "    <tr>\n",
       "      <th>0</th>\n",
       "      <td>1.0</td>\n",
       "      <td>2019-01-02</td>\n",
       "      <td>1.0</td>\n",
       "      <td>3</td>\n",
       "      <td>test</td>\n",
       "      <td>foo</td>\n",
       "    </tr>\n",
       "    <tr>\n",
       "      <th>1</th>\n",
       "      <td>1.0</td>\n",
       "      <td>2019-01-02</td>\n",
       "      <td>1.0</td>\n",
       "      <td>3</td>\n",
       "      <td>train</td>\n",
       "      <td>foo</td>\n",
       "    </tr>\n",
       "    <tr>\n",
       "      <th>2</th>\n",
       "      <td>1.0</td>\n",
       "      <td>2019-01-02</td>\n",
       "      <td>1.0</td>\n",
       "      <td>3</td>\n",
       "      <td>test</td>\n",
       "      <td>foo</td>\n",
       "    </tr>\n",
       "    <tr>\n",
       "      <th>3</th>\n",
       "      <td>1.0</td>\n",
       "      <td>2019-01-02</td>\n",
       "      <td>1.0</td>\n",
       "      <td>3</td>\n",
       "      <td>train</td>\n",
       "      <td>foo</td>\n",
       "    </tr>\n",
       "  </tbody>\n",
       "</table>\n",
       "</div>"
      ],
      "text/plain": [
       "     A          B    C  D      E    F\n",
       "0  1.0 2019-01-02  1.0  3   test  foo\n",
       "1  1.0 2019-01-02  1.0  3  train  foo\n",
       "2  1.0 2019-01-02  1.0  3   test  foo\n",
       "3  1.0 2019-01-02  1.0  3  train  foo"
      ]
     },
     "execution_count": 20,
     "metadata": {},
     "output_type": "execute_result"
    }
   ],
   "source": [
    "df2 = pd.DataFrame({'A':1.,\n",
    "                    'B':pd.Timestamp('20190102'),\n",
    "                    'C':pd.Series(1, index = list(range(4)), dtype='float32'),\n",
    "                    'D':np.array([3]*4, dtype='int32'),\n",
    "                    'E':pd.Categorical([\"test\", \"train\", \"test\", \"train\"]),\n",
    "                    'F':'foo'\n",
    "                   })\n",
    "df2"
   ]
  },
  {
   "cell_type": "code",
   "execution_count": 34,
   "metadata": {},
   "outputs": [
    {
     "data": {
      "text/plain": [
       "Index(['A', 'B', 'C', 'D'], dtype='object')"
      ]
     },
     "execution_count": 34,
     "metadata": {},
     "output_type": "execute_result"
    }
   ],
   "source": [
    "df.head()\n",
    "df.tail(3)\n",
    "df.index\n",
    "df.columns"
   ]
  },
  {
   "cell_type": "code",
   "execution_count": 43,
   "metadata": {},
   "outputs": [
    {
     "data": {
      "text/plain": [
       "array([[-1.08991346, -0.54078737,  0.39658393,  0.62526539],\n",
       "       [ 0.41151102,  1.79443146, -1.03459947, -2.00139658],\n",
       "       [ 1.58425683,  1.23166559, -2.26590064, -1.5801575 ],\n",
       "       [ 0.32638338,  0.03727814,  0.35743195, -1.38193926],\n",
       "       [-0.91338668, -0.97780243, -1.64325407,  0.33686173],\n",
       "       [-0.12640497, -0.2457074 , -1.3450451 ,  0.07216687]])"
      ]
     },
     "execution_count": 43,
     "metadata": {},
     "output_type": "execute_result"
    }
   ],
   "source": [
    "df.to_numpy()"
   ]
  },
  {
   "cell_type": "code",
   "execution_count": 42,
   "metadata": {},
   "outputs": [
    {
     "data": {
      "text/plain": [
       "array([[1.0, Timestamp('2019-01-02 00:00:00'), 1.0, 3, 'test', 'foo'],\n",
       "       [1.0, Timestamp('2019-01-02 00:00:00'), 1.0, 3, 'train', 'foo'],\n",
       "       [1.0, Timestamp('2019-01-02 00:00:00'), 1.0, 3, 'test', 'foo'],\n",
       "       [1.0, Timestamp('2019-01-02 00:00:00'), 1.0, 3, 'train', 'foo']],\n",
       "      dtype=object)"
      ]
     },
     "execution_count": 42,
     "metadata": {},
     "output_type": "execute_result"
    }
   ],
   "source": [
    "df2.to_numpy()"
   ]
  },
  {
   "cell_type": "code",
   "execution_count": 46,
   "metadata": {},
   "outputs": [
    {
     "data": {
      "text/html": [
       "<div>\n",
       "<style scoped>\n",
       "    .dataframe tbody tr th:only-of-type {\n",
       "        vertical-align: middle;\n",
       "    }\n",
       "\n",
       "    .dataframe tbody tr th {\n",
       "        vertical-align: top;\n",
       "    }\n",
       "\n",
       "    .dataframe thead th {\n",
       "        text-align: right;\n",
       "    }\n",
       "</style>\n",
       "<table border=\"1\" class=\"dataframe\">\n",
       "  <thead>\n",
       "    <tr style=\"text-align: right;\">\n",
       "      <th></th>\n",
       "      <th>A</th>\n",
       "      <th>B</th>\n",
       "      <th>C</th>\n",
       "      <th>D</th>\n",
       "    </tr>\n",
       "  </thead>\n",
       "  <tbody>\n",
       "    <tr>\n",
       "      <th>count</th>\n",
       "      <td>6.000000</td>\n",
       "      <td>6.000000</td>\n",
       "      <td>6.000000</td>\n",
       "      <td>6.000000</td>\n",
       "    </tr>\n",
       "    <tr>\n",
       "      <th>mean</th>\n",
       "      <td>0.032074</td>\n",
       "      <td>0.216513</td>\n",
       "      <td>-0.922464</td>\n",
       "      <td>-0.654867</td>\n",
       "    </tr>\n",
       "    <tr>\n",
       "      <th>std</th>\n",
       "      <td>0.981604</td>\n",
       "      <td>1.073874</td>\n",
       "      <td>1.085682</td>\n",
       "      <td>1.126835</td>\n",
       "    </tr>\n",
       "    <tr>\n",
       "      <th>min</th>\n",
       "      <td>-1.089913</td>\n",
       "      <td>-0.977802</td>\n",
       "      <td>-2.265901</td>\n",
       "      <td>-2.001397</td>\n",
       "    </tr>\n",
       "    <tr>\n",
       "      <th>25%</th>\n",
       "      <td>-0.716641</td>\n",
       "      <td>-0.467017</td>\n",
       "      <td>-1.568702</td>\n",
       "      <td>-1.530603</td>\n",
       "    </tr>\n",
       "    <tr>\n",
       "      <th>50%</th>\n",
       "      <td>0.099989</td>\n",
       "      <td>-0.104215</td>\n",
       "      <td>-1.189822</td>\n",
       "      <td>-0.654886</td>\n",
       "    </tr>\n",
       "    <tr>\n",
       "      <th>75%</th>\n",
       "      <td>0.390229</td>\n",
       "      <td>0.933069</td>\n",
       "      <td>0.009424</td>\n",
       "      <td>0.270688</td>\n",
       "    </tr>\n",
       "    <tr>\n",
       "      <th>max</th>\n",
       "      <td>1.584257</td>\n",
       "      <td>1.794431</td>\n",
       "      <td>0.396584</td>\n",
       "      <td>0.625265</td>\n",
       "    </tr>\n",
       "  </tbody>\n",
       "</table>\n",
       "</div>"
      ],
      "text/plain": [
       "              A         B         C         D\n",
       "count  6.000000  6.000000  6.000000  6.000000\n",
       "mean   0.032074  0.216513 -0.922464 -0.654867\n",
       "std    0.981604  1.073874  1.085682  1.126835\n",
       "min   -1.089913 -0.977802 -2.265901 -2.001397\n",
       "25%   -0.716641 -0.467017 -1.568702 -1.530603\n",
       "50%    0.099989 -0.104215 -1.189822 -0.654886\n",
       "75%    0.390229  0.933069  0.009424  0.270688\n",
       "max    1.584257  1.794431  0.396584  0.625265"
      ]
     },
     "execution_count": 46,
     "metadata": {},
     "output_type": "execute_result"
    }
   ],
   "source": [
    "df.describe()"
   ]
  },
  {
   "cell_type": "code",
   "execution_count": 47,
   "metadata": {},
   "outputs": [
    {
     "data": {
      "text/html": [
       "<div>\n",
       "<style scoped>\n",
       "    .dataframe tbody tr th:only-of-type {\n",
       "        vertical-align: middle;\n",
       "    }\n",
       "\n",
       "    .dataframe tbody tr th {\n",
       "        vertical-align: top;\n",
       "    }\n",
       "\n",
       "    .dataframe thead th {\n",
       "        text-align: right;\n",
       "    }\n",
       "</style>\n",
       "<table border=\"1\" class=\"dataframe\">\n",
       "  <thead>\n",
       "    <tr style=\"text-align: right;\">\n",
       "      <th></th>\n",
       "      <th>2013-01-01 00:00:00</th>\n",
       "      <th>2013-01-02 00:00:00</th>\n",
       "      <th>2013-01-03 00:00:00</th>\n",
       "      <th>2013-01-04 00:00:00</th>\n",
       "      <th>2013-01-05 00:00:00</th>\n",
       "      <th>2013-01-06 00:00:00</th>\n",
       "    </tr>\n",
       "  </thead>\n",
       "  <tbody>\n",
       "    <tr>\n",
       "      <th>A</th>\n",
       "      <td>-1.089913</td>\n",
       "      <td>0.411511</td>\n",
       "      <td>1.584257</td>\n",
       "      <td>0.326383</td>\n",
       "      <td>-0.913387</td>\n",
       "      <td>-0.126405</td>\n",
       "    </tr>\n",
       "    <tr>\n",
       "      <th>B</th>\n",
       "      <td>-0.540787</td>\n",
       "      <td>1.794431</td>\n",
       "      <td>1.231666</td>\n",
       "      <td>0.037278</td>\n",
       "      <td>-0.977802</td>\n",
       "      <td>-0.245707</td>\n",
       "    </tr>\n",
       "    <tr>\n",
       "      <th>C</th>\n",
       "      <td>0.396584</td>\n",
       "      <td>-1.034599</td>\n",
       "      <td>-2.265901</td>\n",
       "      <td>0.357432</td>\n",
       "      <td>-1.643254</td>\n",
       "      <td>-1.345045</td>\n",
       "    </tr>\n",
       "    <tr>\n",
       "      <th>D</th>\n",
       "      <td>0.625265</td>\n",
       "      <td>-2.001397</td>\n",
       "      <td>-1.580157</td>\n",
       "      <td>-1.381939</td>\n",
       "      <td>0.336862</td>\n",
       "      <td>0.072167</td>\n",
       "    </tr>\n",
       "  </tbody>\n",
       "</table>\n",
       "</div>"
      ],
      "text/plain": [
       "   2013-01-01  2013-01-02  2013-01-03  2013-01-04  2013-01-05  2013-01-06\n",
       "A   -1.089913    0.411511    1.584257    0.326383   -0.913387   -0.126405\n",
       "B   -0.540787    1.794431    1.231666    0.037278   -0.977802   -0.245707\n",
       "C    0.396584   -1.034599   -2.265901    0.357432   -1.643254   -1.345045\n",
       "D    0.625265   -2.001397   -1.580157   -1.381939    0.336862    0.072167"
      ]
     },
     "execution_count": 47,
     "metadata": {},
     "output_type": "execute_result"
    }
   ],
   "source": [
    "df.T"
   ]
  },
  {
   "cell_type": "code",
   "execution_count": 48,
   "metadata": {},
   "outputs": [
    {
     "data": {
      "text/html": [
       "<div>\n",
       "<style scoped>\n",
       "    .dataframe tbody tr th:only-of-type {\n",
       "        vertical-align: middle;\n",
       "    }\n",
       "\n",
       "    .dataframe tbody tr th {\n",
       "        vertical-align: top;\n",
       "    }\n",
       "\n",
       "    .dataframe thead th {\n",
       "        text-align: right;\n",
       "    }\n",
       "</style>\n",
       "<table border=\"1\" class=\"dataframe\">\n",
       "  <thead>\n",
       "    <tr style=\"text-align: right;\">\n",
       "      <th></th>\n",
       "      <th>D</th>\n",
       "      <th>C</th>\n",
       "      <th>B</th>\n",
       "      <th>A</th>\n",
       "    </tr>\n",
       "  </thead>\n",
       "  <tbody>\n",
       "    <tr>\n",
       "      <th>2013-01-01</th>\n",
       "      <td>0.625265</td>\n",
       "      <td>0.396584</td>\n",
       "      <td>-0.540787</td>\n",
       "      <td>-1.089913</td>\n",
       "    </tr>\n",
       "    <tr>\n",
       "      <th>2013-01-02</th>\n",
       "      <td>-2.001397</td>\n",
       "      <td>-1.034599</td>\n",
       "      <td>1.794431</td>\n",
       "      <td>0.411511</td>\n",
       "    </tr>\n",
       "    <tr>\n",
       "      <th>2013-01-03</th>\n",
       "      <td>-1.580157</td>\n",
       "      <td>-2.265901</td>\n",
       "      <td>1.231666</td>\n",
       "      <td>1.584257</td>\n",
       "    </tr>\n",
       "    <tr>\n",
       "      <th>2013-01-04</th>\n",
       "      <td>-1.381939</td>\n",
       "      <td>0.357432</td>\n",
       "      <td>0.037278</td>\n",
       "      <td>0.326383</td>\n",
       "    </tr>\n",
       "    <tr>\n",
       "      <th>2013-01-05</th>\n",
       "      <td>0.336862</td>\n",
       "      <td>-1.643254</td>\n",
       "      <td>-0.977802</td>\n",
       "      <td>-0.913387</td>\n",
       "    </tr>\n",
       "    <tr>\n",
       "      <th>2013-01-06</th>\n",
       "      <td>0.072167</td>\n",
       "      <td>-1.345045</td>\n",
       "      <td>-0.245707</td>\n",
       "      <td>-0.126405</td>\n",
       "    </tr>\n",
       "  </tbody>\n",
       "</table>\n",
       "</div>"
      ],
      "text/plain": [
       "                   D         C         B         A\n",
       "2013-01-01  0.625265  0.396584 -0.540787 -1.089913\n",
       "2013-01-02 -2.001397 -1.034599  1.794431  0.411511\n",
       "2013-01-03 -1.580157 -2.265901  1.231666  1.584257\n",
       "2013-01-04 -1.381939  0.357432  0.037278  0.326383\n",
       "2013-01-05  0.336862 -1.643254 -0.977802 -0.913387\n",
       "2013-01-06  0.072167 -1.345045 -0.245707 -0.126405"
      ]
     },
     "execution_count": 48,
     "metadata": {},
     "output_type": "execute_result"
    }
   ],
   "source": [
    "df.sort_index(axis=1,ascending=False)"
   ]
  },
  {
   "cell_type": "code",
   "execution_count": 49,
   "metadata": {},
   "outputs": [
    {
     "data": {
      "text/html": [
       "<div>\n",
       "<style scoped>\n",
       "    .dataframe tbody tr th:only-of-type {\n",
       "        vertical-align: middle;\n",
       "    }\n",
       "\n",
       "    .dataframe tbody tr th {\n",
       "        vertical-align: top;\n",
       "    }\n",
       "\n",
       "    .dataframe thead th {\n",
       "        text-align: right;\n",
       "    }\n",
       "</style>\n",
       "<table border=\"1\" class=\"dataframe\">\n",
       "  <thead>\n",
       "    <tr style=\"text-align: right;\">\n",
       "      <th></th>\n",
       "      <th>A</th>\n",
       "      <th>B</th>\n",
       "      <th>C</th>\n",
       "      <th>D</th>\n",
       "    </tr>\n",
       "  </thead>\n",
       "  <tbody>\n",
       "    <tr>\n",
       "      <th>2013-01-05</th>\n",
       "      <td>-0.913387</td>\n",
       "      <td>-0.977802</td>\n",
       "      <td>-1.643254</td>\n",
       "      <td>0.336862</td>\n",
       "    </tr>\n",
       "    <tr>\n",
       "      <th>2013-01-01</th>\n",
       "      <td>-1.089913</td>\n",
       "      <td>-0.540787</td>\n",
       "      <td>0.396584</td>\n",
       "      <td>0.625265</td>\n",
       "    </tr>\n",
       "    <tr>\n",
       "      <th>2013-01-06</th>\n",
       "      <td>-0.126405</td>\n",
       "      <td>-0.245707</td>\n",
       "      <td>-1.345045</td>\n",
       "      <td>0.072167</td>\n",
       "    </tr>\n",
       "    <tr>\n",
       "      <th>2013-01-04</th>\n",
       "      <td>0.326383</td>\n",
       "      <td>0.037278</td>\n",
       "      <td>0.357432</td>\n",
       "      <td>-1.381939</td>\n",
       "    </tr>\n",
       "    <tr>\n",
       "      <th>2013-01-03</th>\n",
       "      <td>1.584257</td>\n",
       "      <td>1.231666</td>\n",
       "      <td>-2.265901</td>\n",
       "      <td>-1.580157</td>\n",
       "    </tr>\n",
       "    <tr>\n",
       "      <th>2013-01-02</th>\n",
       "      <td>0.411511</td>\n",
       "      <td>1.794431</td>\n",
       "      <td>-1.034599</td>\n",
       "      <td>-2.001397</td>\n",
       "    </tr>\n",
       "  </tbody>\n",
       "</table>\n",
       "</div>"
      ],
      "text/plain": [
       "                   A         B         C         D\n",
       "2013-01-05 -0.913387 -0.977802 -1.643254  0.336862\n",
       "2013-01-01 -1.089913 -0.540787  0.396584  0.625265\n",
       "2013-01-06 -0.126405 -0.245707 -1.345045  0.072167\n",
       "2013-01-04  0.326383  0.037278  0.357432 -1.381939\n",
       "2013-01-03  1.584257  1.231666 -2.265901 -1.580157\n",
       "2013-01-02  0.411511  1.794431 -1.034599 -2.001397"
      ]
     },
     "execution_count": 49,
     "metadata": {},
     "output_type": "execute_result"
    }
   ],
   "source": [
    "df.sort_values(by='B')"
   ]
  },
  {
   "cell_type": "code",
   "execution_count": 50,
   "metadata": {},
   "outputs": [
    {
     "data": {
      "text/plain": [
       "2013-01-01   -1.089913\n",
       "2013-01-02    0.411511\n",
       "2013-01-03    1.584257\n",
       "2013-01-04    0.326383\n",
       "2013-01-05   -0.913387\n",
       "2013-01-06   -0.126405\n",
       "Freq: D, Name: A, dtype: float64"
      ]
     },
     "execution_count": 50,
     "metadata": {},
     "output_type": "execute_result"
    }
   ],
   "source": [
    "df['A']"
   ]
  },
  {
   "cell_type": "code",
   "execution_count": 51,
   "metadata": {},
   "outputs": [
    {
     "data": {
      "text/html": [
       "<div>\n",
       "<style scoped>\n",
       "    .dataframe tbody tr th:only-of-type {\n",
       "        vertical-align: middle;\n",
       "    }\n",
       "\n",
       "    .dataframe tbody tr th {\n",
       "        vertical-align: top;\n",
       "    }\n",
       "\n",
       "    .dataframe thead th {\n",
       "        text-align: right;\n",
       "    }\n",
       "</style>\n",
       "<table border=\"1\" class=\"dataframe\">\n",
       "  <thead>\n",
       "    <tr style=\"text-align: right;\">\n",
       "      <th></th>\n",
       "      <th>A</th>\n",
       "      <th>B</th>\n",
       "      <th>C</th>\n",
       "      <th>D</th>\n",
       "    </tr>\n",
       "  </thead>\n",
       "  <tbody>\n",
       "    <tr>\n",
       "      <th>2013-01-01</th>\n",
       "      <td>-1.089913</td>\n",
       "      <td>-0.540787</td>\n",
       "      <td>0.396584</td>\n",
       "      <td>0.625265</td>\n",
       "    </tr>\n",
       "    <tr>\n",
       "      <th>2013-01-02</th>\n",
       "      <td>0.411511</td>\n",
       "      <td>1.794431</td>\n",
       "      <td>-1.034599</td>\n",
       "      <td>-2.001397</td>\n",
       "    </tr>\n",
       "    <tr>\n",
       "      <th>2013-01-03</th>\n",
       "      <td>1.584257</td>\n",
       "      <td>1.231666</td>\n",
       "      <td>-2.265901</td>\n",
       "      <td>-1.580157</td>\n",
       "    </tr>\n",
       "  </tbody>\n",
       "</table>\n",
       "</div>"
      ],
      "text/plain": [
       "                   A         B         C         D\n",
       "2013-01-01 -1.089913 -0.540787  0.396584  0.625265\n",
       "2013-01-02  0.411511  1.794431 -1.034599 -2.001397\n",
       "2013-01-03  1.584257  1.231666 -2.265901 -1.580157"
      ]
     },
     "execution_count": 51,
     "metadata": {},
     "output_type": "execute_result"
    }
   ],
   "source": [
    "df[0:3]"
   ]
  },
  {
   "cell_type": "code",
   "execution_count": 52,
   "metadata": {},
   "outputs": [
    {
     "data": {
      "text/plain": [
       "A   -1.089913\n",
       "B   -0.540787\n",
       "C    0.396584\n",
       "D    0.625265\n",
       "Name: 2013-01-01 00:00:00, dtype: float64"
      ]
     },
     "execution_count": 52,
     "metadata": {},
     "output_type": "execute_result"
    }
   ],
   "source": [
    "df.loc[dates[0]]"
   ]
  },
  {
   "cell_type": "code",
   "execution_count": 56,
   "metadata": {},
   "outputs": [
    {
     "data": {
      "text/html": [
       "<div>\n",
       "<style scoped>\n",
       "    .dataframe tbody tr th:only-of-type {\n",
       "        vertical-align: middle;\n",
       "    }\n",
       "\n",
       "    .dataframe tbody tr th {\n",
       "        vertical-align: top;\n",
       "    }\n",
       "\n",
       "    .dataframe thead th {\n",
       "        text-align: right;\n",
       "    }\n",
       "</style>\n",
       "<table border=\"1\" class=\"dataframe\">\n",
       "  <thead>\n",
       "    <tr style=\"text-align: right;\">\n",
       "      <th></th>\n",
       "      <th>A</th>\n",
       "      <th>B</th>\n",
       "    </tr>\n",
       "  </thead>\n",
       "  <tbody>\n",
       "    <tr>\n",
       "      <th>2013-01-01</th>\n",
       "      <td>-1.089913</td>\n",
       "      <td>-0.540787</td>\n",
       "    </tr>\n",
       "    <tr>\n",
       "      <th>2013-01-02</th>\n",
       "      <td>0.411511</td>\n",
       "      <td>1.794431</td>\n",
       "    </tr>\n",
       "    <tr>\n",
       "      <th>2013-01-03</th>\n",
       "      <td>1.584257</td>\n",
       "      <td>1.231666</td>\n",
       "    </tr>\n",
       "    <tr>\n",
       "      <th>2013-01-04</th>\n",
       "      <td>0.326383</td>\n",
       "      <td>0.037278</td>\n",
       "    </tr>\n",
       "    <tr>\n",
       "      <th>2013-01-05</th>\n",
       "      <td>-0.913387</td>\n",
       "      <td>-0.977802</td>\n",
       "    </tr>\n",
       "    <tr>\n",
       "      <th>2013-01-06</th>\n",
       "      <td>-0.126405</td>\n",
       "      <td>-0.245707</td>\n",
       "    </tr>\n",
       "  </tbody>\n",
       "</table>\n",
       "</div>"
      ],
      "text/plain": [
       "                   A         B\n",
       "2013-01-01 -1.089913 -0.540787\n",
       "2013-01-02  0.411511  1.794431\n",
       "2013-01-03  1.584257  1.231666\n",
       "2013-01-04  0.326383  0.037278\n",
       "2013-01-05 -0.913387 -0.977802\n",
       "2013-01-06 -0.126405 -0.245707"
      ]
     },
     "execution_count": 56,
     "metadata": {},
     "output_type": "execute_result"
    }
   ],
   "source": [
    "df.loc[:,['A', 'B']]"
   ]
  },
  {
   "cell_type": "code",
   "execution_count": 57,
   "metadata": {},
   "outputs": [
    {
     "data": {
      "text/html": [
       "<div>\n",
       "<style scoped>\n",
       "    .dataframe tbody tr th:only-of-type {\n",
       "        vertical-align: middle;\n",
       "    }\n",
       "\n",
       "    .dataframe tbody tr th {\n",
       "        vertical-align: top;\n",
       "    }\n",
       "\n",
       "    .dataframe thead th {\n",
       "        text-align: right;\n",
       "    }\n",
       "</style>\n",
       "<table border=\"1\" class=\"dataframe\">\n",
       "  <thead>\n",
       "    <tr style=\"text-align: right;\">\n",
       "      <th></th>\n",
       "      <th>A</th>\n",
       "      <th>B</th>\n",
       "    </tr>\n",
       "  </thead>\n",
       "  <tbody>\n",
       "    <tr>\n",
       "      <th>2013-01-02</th>\n",
       "      <td>0.411511</td>\n",
       "      <td>1.794431</td>\n",
       "    </tr>\n",
       "    <tr>\n",
       "      <th>2013-01-03</th>\n",
       "      <td>1.584257</td>\n",
       "      <td>1.231666</td>\n",
       "    </tr>\n",
       "    <tr>\n",
       "      <th>2013-01-04</th>\n",
       "      <td>0.326383</td>\n",
       "      <td>0.037278</td>\n",
       "    </tr>\n",
       "  </tbody>\n",
       "</table>\n",
       "</div>"
      ],
      "text/plain": [
       "                   A         B\n",
       "2013-01-02  0.411511  1.794431\n",
       "2013-01-03  1.584257  1.231666\n",
       "2013-01-04  0.326383  0.037278"
      ]
     },
     "execution_count": 57,
     "metadata": {},
     "output_type": "execute_result"
    }
   ],
   "source": [
    "df.loc['20130102': '20130104', ['A', 'B']]"
   ]
  },
  {
   "cell_type": "code",
   "execution_count": 143,
   "metadata": {},
   "outputs": [
    {
     "name": "stdout",
     "output_type": "stream",
     "text": [
      "   노선번호,노선명,기점명,종점명,정거장구성,노선연장,개통일자,운영기관명,운영기관전화번호,데이터기준일자,제공기관코드,제공기관명,\n",
      "0   L4101,의정부경전철,발곡,탑석,\"U110-발곡,U111-회룡,U112-범골,U1...                   \n",
      "1   S2701,대구 도시철도 1호선,설화명곡역,안심역,\"0115-설화명곡역,0116-화...                   \n",
      "2   S2702,대구 도시철도 2호선,문양역,영남대역,\"0216-문양,0217-다사,02...                   \n",
      "3   S2703,대구 도시철도 3호선,칠곡경대병원역,용지역,\"0312-칠곡경대병원,031...                   \n",
      "4   S2801,인천지하철 1호선,계양역,국제업무지구역,\"3110-계양역,3111-귤현역...                   \n",
      "5   S2802,인천지하철 2호선,검단오류역,운연역,\"3201-검단오류역,3202-왕길역...                   \n",
      "6   L4101,의정부경전철,발곡,탑석,\"U110-발곡,U111-회룡,U112-범골,U1...                   \n",
      "7   T4101,에버라인,기흥역,전대-에버랜드역,지상역 15개,18.14,2013-04-...                   \n",
      "8   k1211,동해선,부전,일광,\"K410-부전역, K411-거제해맞이역, K412-거...                   \n",
      "9   k1218,경강선,판교,여주,\"K410-판교역, K412-삼동역, K413-경기광주...                   \n",
      "10  k1215,수인선,오이도,인천,\"K251-달월역, K252-월곶역, K253-소래포...                   \n",
      "11  k1210,경춘선,상봉,춘천,\"P122-신내역, P123-갈매역, P124-별내역,...                   \n",
      "12  k1305,일산선,지축,대화,\"0319-지축역, 0318-삼송역, 0317-원흥역,...                   \n",
      "13  k1304,분당선,왕십리,수원,\"K245-수원(분당)역, K211-서울숲역, K21...                   \n",
      "14  k1303,안산·과천선,남태령,오이도,\"435선바위역, 436경마공원역, 437대공...                   \n",
      "15  k1212,경의중앙선,용문,문산,\"P313-서울역(경의선), P314-신촌역, K3...                   \n",
      "16  k1205,경원선,청량리,소요산,\"0123-회기역, 0122-외대앞역, 0121-신...                   \n",
      "17  k1301,경인선,구로,인천,\"0142-구일역, 0143-개봉역, 0144-오류동역...                   \n",
      "18  k1201,경부선,서울,신창,\"0134-남영역, 0135-/ K110-용산역 013...                   \n",
      "19  S2901,광주도시철도 1호선,녹동역,소태역,\"녹동-100,소태-101,학동,증심사...                   \n",
      "20  L4801,부산-김해경전철,사상,가야대,\"0121-가야대,0120-장신대,0119-...                   \n",
      "21  S2601,부산도시철도1호선,노포,다대포해수욕장,\"0134-노포,0133-범어사,0...                   \n",
      "22  S2602,부산도시철도2호선,양산,장산,\"0243-양산,0242-남양산,0241-부...                   \n",
      "23  S2603,부산도시철도3호선,대저,수영,\"0317-대저,0316-체육공원,0315-...                   \n",
      "24  S2604,부산도시철도4호선,안평,미남,\"0414-안평,0413-고촌,0412-동부...                   \n",
      "25  S3001,대전도서철도 1호선,판암,반석,\"0101-판암,0102-신흥,0103-대...                   \n",
      "26  I2018,김포도시철도,김포한강차량기지,김포공항역,\"정거장10, 차량기지1\",236...                   \n"
     ]
    },
    {
     "name": "stderr",
     "output_type": "stream",
     "text": [
      "C:\\Users\\Administrator\\Anaconda3\\lib\\site-packages\\ipykernel_launcher.py:1: ParserWarning: Falling back to the 'python' engine because the 'c' engine does not support regex separators (separators > 1 char and different from '\\s+' are interpreted as regex); you can avoid this warning by specifying engine='python'.\n",
      "  \"\"\"Entry point for launching an IPython kernel.\n"
     ]
    },
    {
     "ename": "AttributeError",
     "evalue": "module 'pandas' has no attribute 'to_csv'",
     "output_type": "error",
     "traceback": [
      "\u001b[1;31m---------------------------------------------------------------------------\u001b[0m",
      "\u001b[1;31mAttributeError\u001b[0m                            Traceback (most recent call last)",
      "\u001b[1;32m<ipython-input-143-27e71dd15b50>\u001b[0m in \u001b[0;36m<module>\u001b[1;34m\u001b[0m\n\u001b[0;32m      3\u001b[0m \u001b[1;33m\u001b[0m\u001b[0m\n\u001b[0;32m      4\u001b[0m \u001b[1;33m\u001b[0m\u001b[0m\n\u001b[1;32m----> 5\u001b[1;33m \u001b[0mvarWriteCsv\u001b[0m \u001b[1;33m=\u001b[0m \u001b[0mpd\u001b[0m\u001b[1;33m.\u001b[0m\u001b[0mto_csv\u001b[0m\u001b[1;33m(\u001b[0m\u001b[1;34m'TestPandasFile/varWriteCsv01.csv'\u001b[0m\u001b[1;33m)\u001b[0m\u001b[1;33m\u001b[0m\u001b[1;33m\u001b[0m\u001b[0m\n\u001b[0m",
      "\u001b[1;31mAttributeError\u001b[0m: module 'pandas' has no attribute 'to_csv'"
     ]
    }
   ],
   "source": [
    "varReadCsv = pd.read_csv('TestPandasFile/전국도시철도노선정보표준데이터.csv','tt')\n",
    "print(varReadCsv)\n",
    "\n",
    "\n",
    "varWriteCsv = pd.to_csv('TestPandasFile/varWriteCsv01.csv')"
   ]
  },
  {
   "cell_type": "code",
   "execution_count": 113,
   "metadata": {},
   "outputs": [
    {
     "data": {
      "text/html": [
       "<div>\n",
       "<style scoped>\n",
       "    .dataframe tbody tr th:only-of-type {\n",
       "        vertical-align: middle;\n",
       "    }\n",
       "\n",
       "    .dataframe tbody tr th {\n",
       "        vertical-align: top;\n",
       "    }\n",
       "\n",
       "    .dataframe thead th {\n",
       "        text-align: right;\n",
       "    }\n",
       "</style>\n",
       "<table border=\"1\" class=\"dataframe\">\n",
       "  <thead>\n",
       "    <tr style=\"text-align: right;\">\n",
       "      <th></th>\n",
       "      <th>노선번호</th>\n",
       "      <th>노선명</th>\n",
       "      <th>기점명</th>\n",
       "      <th>종점명</th>\n",
       "      <th>정거장구성</th>\n",
       "      <th>노선연장</th>\n",
       "      <th>개통일자</th>\n",
       "      <th>운영기관명</th>\n",
       "      <th>운영기관전화번호</th>\n",
       "      <th>데이터기준일자</th>\n",
       "      <th>제공기관코드</th>\n",
       "      <th>제공기관명</th>\n",
       "    </tr>\n",
       "  </thead>\n",
       "  <tbody>\n",
       "    <tr>\n",
       "      <th>22</th>\n",
       "      <td>S2602</td>\n",
       "      <td>부산도시철도2호선</td>\n",
       "      <td>양산</td>\n",
       "      <td>장산</td>\n",
       "      <td>0243-양산,0242-남양산,0241-부산대양산캠퍼스,0240-증산,0239-호포...</td>\n",
       "      <td>7200.0</td>\n",
       "      <td>1999-06-30</td>\n",
       "      <td>부산교통공사</td>\n",
       "      <td>051-1544-4005</td>\n",
       "      <td>2019-02-13</td>\n",
       "      <td>B551542</td>\n",
       "      <td>부산교통공사</td>\n",
       "    </tr>\n",
       "    <tr>\n",
       "      <th>23</th>\n",
       "      <td>S2603</td>\n",
       "      <td>부산도시철도3호선</td>\n",
       "      <td>대저</td>\n",
       "      <td>수영</td>\n",
       "      <td>0317-대저,0316-체육공원,0315-강서구청,0314-구포,0313-덕천,03...</td>\n",
       "      <td>0.0</td>\n",
       "      <td>2005-11-28</td>\n",
       "      <td>부산교통공사</td>\n",
       "      <td>051-1544-4005</td>\n",
       "      <td>2019-02-13</td>\n",
       "      <td>B551542</td>\n",
       "      <td>부산교통공사</td>\n",
       "    </tr>\n",
       "    <tr>\n",
       "      <th>24</th>\n",
       "      <td>S2604</td>\n",
       "      <td>부산도시철도4호선</td>\n",
       "      <td>안평</td>\n",
       "      <td>미남</td>\n",
       "      <td>0414-안평,0413-고촌,0412-동부산대학,0411-영산대,0410-석대,04...</td>\n",
       "      <td>0.0</td>\n",
       "      <td>2011-03-30</td>\n",
       "      <td>부산교통공사</td>\n",
       "      <td>051-1544-4005</td>\n",
       "      <td>2019-02-13</td>\n",
       "      <td>B551542</td>\n",
       "      <td>부산교통공사</td>\n",
       "    </tr>\n",
       "    <tr>\n",
       "      <th>25</th>\n",
       "      <td>S3001</td>\n",
       "      <td>대전도서철도 1호선</td>\n",
       "      <td>판암</td>\n",
       "      <td>반석</td>\n",
       "      <td>\"0101-판암,0102-신흥,0103-대동,0104-대전,0105-중앙로,0106...</td>\n",
       "      <td>20470.0</td>\n",
       "      <td>2006-03-16</td>\n",
       "      <td>대전광역시도시철도공사</td>\n",
       "      <td>042-539-3114</td>\n",
       "      <td>2018-08-22</td>\n",
       "      <td>B551918</td>\n",
       "      <td>대전광역시도시철도공사</td>\n",
       "    </tr>\n",
       "    <tr>\n",
       "      <th>26</th>\n",
       "      <td>I2018</td>\n",
       "      <td>김포도시철도</td>\n",
       "      <td>김포한강차량기지</td>\n",
       "      <td>김포공항역</td>\n",
       "      <td>\"정거장10, 차량기지1\"</td>\n",
       "      <td>23670.0</td>\n",
       "      <td>2019-07-31</td>\n",
       "      <td>서울교통공사</td>\n",
       "      <td>031-980-5526</td>\n",
       "      <td>2018-09-20</td>\n",
       "      <td>4090000</td>\n",
       "      <td>경기도 김포시</td>\n",
       "    </tr>\n",
       "  </tbody>\n",
       "</table>\n",
       "</div>"
      ],
      "text/plain": [
       "     노선번호         노선명       기점명    종점명  \\\n",
       "22  S2602   부산도시철도2호선        양산     장산   \n",
       "23  S2603   부산도시철도3호선        대저     수영   \n",
       "24  S2604   부산도시철도4호선        안평     미남   \n",
       "25  S3001  대전도서철도 1호선        판암     반석   \n",
       "26  I2018      김포도시철도  김포한강차량기지  김포공항역   \n",
       "\n",
       "                                                정거장구성     노선연장        개통일자  \\\n",
       "22  0243-양산,0242-남양산,0241-부산대양산캠퍼스,0240-증산,0239-호포...   7200.0  1999-06-30   \n",
       "23  0317-대저,0316-체육공원,0315-강서구청,0314-구포,0313-덕천,03...      0.0  2005-11-28   \n",
       "24  0414-안평,0413-고촌,0412-동부산대학,0411-영산대,0410-석대,04...      0.0  2011-03-30   \n",
       "25  \"0101-판암,0102-신흥,0103-대동,0104-대전,0105-중앙로,0106...  20470.0  2006-03-16   \n",
       "26                                     \"정거장10, 차량기지1\"  23670.0  2019-07-31   \n",
       "\n",
       "          운영기관명       운영기관전화번호     데이터기준일자   제공기관코드        제공기관명  \n",
       "22       부산교통공사  051-1544-4005  2019-02-13  B551542       부산교통공사  \n",
       "23       부산교통공사  051-1544-4005  2019-02-13  B551542       부산교통공사  \n",
       "24       부산교통공사  051-1544-4005  2019-02-13  B551542       부산교통공사  \n",
       "25  대전광역시도시철도공사   042-539-3114  2018-08-22  B551918  대전광역시도시철도공사  \n",
       "26       서울교통공사   031-980-5526  2018-09-20  4090000      경기도 김포시  "
      ]
     },
     "execution_count": 113,
     "metadata": {},
     "output_type": "execute_result"
    }
   ],
   "source": [
    "var1 = pd.read_excel('TestPandasFile/전국도시철도노선정보표준데이터.xls')\n",
    "var1.head(5)\n",
    "var1.tail(5)"
   ]
  },
  {
   "cell_type": "code",
   "execution_count": 207,
   "metadata": {},
   "outputs": [
    {
     "name": "stdout",
     "output_type": "stream",
     "text": [
      "    노선번호          노선명    기점명   종점명  \\\n",
      "0  L4101       의정부경전철     발곡    탑석   \n",
      "1  S2701  대구 도시철도 1호선  설화명곡역   안심역   \n",
      "2  S2702  대구 도시철도 2호선    문양역  영남대역   \n",
      "\n",
      "                                               정거장구성     노선연장        개통일자  \\\n",
      "0  U110-발곡,U111-회룡,U112-범골,U113-경전철의정부,U114-의정부시청...  10600.0  2012-07-01   \n",
      "1  0115-설화명곡역,0116-화원역,0117-대곡,0118-진천,0119-월배,01...  28400.0  1997-11-26   \n",
      "2  0216-문양,0217-다사,0218-대실,0219-강창,0220-계명대,0221-...  31400.0  2012-09-19   \n",
      "\n",
      "      운영기관명      운영기관전화번호     데이터기준일자   제공기관코드     제공기관명  Unnamed: 12  \n",
      "0    인천교통공사  031-820-1000  2018-06-25  3820000  경기도 의정부시          NaN  \n",
      "1  대구도시철도공사  053-642-2114  2018-08-21  B552109  대구도시철도공사          NaN  \n",
      "2  대구도시철도공사  053-642-2114  2018-08-21  B552109  대구도시철도공사          NaN  \n"
     ]
    }
   ],
   "source": [
    "varReadCsv02 = pd.read_csv(\"TestPandasFile/전국도시철도노선정보표준데이터.csv\",engine='python')\n",
    "print(varReadCsv02.head(3))\n"
   ]
  },
  {
   "cell_type": "code",
   "execution_count": 208,
   "metadata": {},
   "outputs": [
    {
     "name": "stdout",
     "output_type": "stream",
     "text": [
      "     노선번호         노선명       기점명    종점명  \\\n",
      "24  S2604   부산도시철도4호선        안평     미남   \n",
      "25  S3001  대전도서철도 1호선        판암     반석   \n",
      "26  I2018      김포도시철도  김포한강차량기지  김포공항역   \n",
      "\n",
      "                                                정거장구성     노선연장        개통일자  \\\n",
      "24  0414-안평,0413-고촌,0412-동부산대학,0411-영산대,0410-석대,04...      0.0  2011-03-30   \n",
      "25  0101-판암,0102-신흥,0103-대동,0104-대전,0105-중앙로,0106-...  20470.0  2006-03-16   \n",
      "26                                       정거장10, 차량기지1  23670.0  2019-07-31   \n",
      "\n",
      "          운영기관명       운영기관전화번호     데이터기준일자   제공기관코드        제공기관명  Unnamed: 12  \n",
      "24       부산교통공사  051-1544-4005  2019-02-13  B551542       부산교통공사          NaN  \n",
      "25  대전광역시도시철도공사   042-539-3114  2018-08-22  B551918  대전광역시도시철도공사          NaN  \n",
      "26       서울교통공사   031-980-5526  2018-09-20  4090000      경기도 김포시          NaN  \n"
     ]
    }
   ],
   "source": [
    "var2 = pd.read_csv('TestPandasFile\\전국도시철도노선정보표준데이터.csv',engine='python')\n",
    "print(var2.tail(3))"
   ]
  }
 ],
 "metadata": {
  "kernelspec": {
   "display_name": "Python 3",
   "language": "python",
   "name": "python3"
  },
  "language_info": {
   "codemirror_mode": {
    "name": "ipython",
    "version": 3
   },
   "file_extension": ".py",
   "mimetype": "text/x-python",
   "name": "python",
   "nbconvert_exporter": "python",
   "pygments_lexer": "ipython3",
   "version": "3.7.3"
  }
 },
 "nbformat": 4,
 "nbformat_minor": 2
}
